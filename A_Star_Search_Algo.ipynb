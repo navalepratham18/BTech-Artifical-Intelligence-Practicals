{
  "nbformat": 4,
  "nbformat_minor": 0,
  "metadata": {
    "colab": {
      "provenance": [],
      "authorship_tag": "ABX9TyP1QSQ6g0p/rYCNfWz5Z/ll",
      "include_colab_link": true
    },
    "kernelspec": {
      "name": "python3",
      "display_name": "Python 3"
    },
    "language_info": {
      "name": "python"
    }
  },
  "cells": [
    {
      "cell_type": "markdown",
      "metadata": {
        "id": "view-in-github",
        "colab_type": "text"
      },
      "source": [
        "<a href=\"https://colab.research.google.com/github/navalepratham18/BTech-Artifical-Intelligence-Practicals/blob/main/A_Star_Search_Algo.ipynb\" target=\"_parent\"><img src=\"https://colab.research.google.com/assets/colab-badge.svg\" alt=\"Open In Colab\"/></a>"
      ]
    },
    {
      "cell_type": "markdown",
      "source": [
        "## Name : Navale Prtathamesh Rajendra\n",
        "## Year & Div : TY-AIML-B\n",
        "## Roll No. : 30"
      ],
      "metadata": {
        "id": "TDOlYmrbziNH"
      }
    },
    {
      "cell_type": "code",
      "execution_count": 2,
      "metadata": {
        "id": "9vc6PMkKy3DT"
      },
      "outputs": [],
      "source": [
        "import heapq\n",
        "\n",
        "# A* Algorithm Implementation\n",
        "def a_star_search(graph, start, goal, heuristic):\n",
        "  #Priority Queue : stores (f(n), node, path, g(n))\n",
        "  open_list = [(heuristic[start], start, [start], 0)]\n",
        "  visited = set()\n",
        "\n",
        "  while open_list:\n",
        "    f, node, path, g = heapq.heappop(open_list)\n",
        "\n",
        "    #if goal found\n",
        "    if node == goal:\n",
        "      return path, g\n",
        "\n",
        "    #if node in visited\n",
        "    if node in visited:\n",
        "      continue\n",
        "    #add node to visited\n",
        "    visited.add(node)\n",
        "\n",
        "    #explore Neighbours\n",
        "    for neighbor, cost in graph[node].items():\n",
        "      if neighbor not in visited:\n",
        "        g_new = g + cost\n",
        "        f_new = g_new + heuristic[neighbor] # f(n) = g(n) + h(n)\n",
        "        heapq.heappush(open_list, (f_new, neighbor, path + [neighbor], g_new))\n",
        "\n",
        "  return None, float(\"inf\")"
      ]
    },
    {
      "cell_type": "code",
      "source": [
        "# Graph as adjacency list with edge costs\n",
        "graph = {\n",
        "    'A' : {'B' : 1, 'C' : 3},\n",
        "    'B' : {'D' : 3, 'E' : 1},\n",
        "    'C' : {'F' : 5},\n",
        "    'D' : {},\n",
        "    'E' : {'F' : 2},\n",
        "    'F' : {}\n",
        "}\n",
        "\n",
        "# Heuristic Values (Straight line estimates to goal 'F')\n",
        "heuristic = {\n",
        "    'A' : 6,\n",
        "    'B' : 4,\n",
        "    'C' : 5,\n",
        "    'D' : 3,\n",
        "    'E' : 2,\n",
        "    'F' : 0\n",
        "}\n",
        "\n",
        "path, cost = a_star_search(graph, 'A', 'F', heuristic)\n",
        "print(\"Path:\", path)\n",
        "print(\"Total Cost:\", cost)"
      ],
      "metadata": {
        "colab": {
          "base_uri": "https://localhost:8080/"
        },
        "id": "qvLXhw__6455",
        "outputId": "3de409f7-c9e1-4343-e930-e1e6e0b88488"
      },
      "execution_count": 3,
      "outputs": [
        {
          "output_type": "stream",
          "name": "stdout",
          "text": [
            "Path: ['A', 'B', 'E', 'F']\n",
            "Total Cost: 4\n"
          ]
        }
      ]
    }
  ]
}