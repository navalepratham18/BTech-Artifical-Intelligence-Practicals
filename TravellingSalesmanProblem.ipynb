{
  "cells": [
    {
      "cell_type": "markdown",
      "metadata": {
        "colab_type": "text",
        "id": "view-in-github"
      },
      "source": [
        "<a href=\"https://colab.research.google.com/github/navalepratham18/BTech-Artifical-Intelligence-Practicals/blob/main/TravellingSalesmanProblem.ipynb\" target=\"_parent\"><img src=\"https://colab.research.google.com/assets/colab-badge.svg\" alt=\"Open In Colab\"/></a>"
      ]
    },
    {
      "cell_type": "markdown",
      "metadata": {
        "id": "Z2F-mZhuTFhg"
      },
      "source": [
        "# Travelling Salemen Problem"
      ]
    },
    {
      "cell_type": "code",
      "execution_count": null,
      "metadata": {
        "colab": {
          "base_uri": "https://localhost:8080/"
        },
        "id": "aVOU5h4GTe0w",
        "outputId": "83d2646a-ec31-474b-d538-2d36a9f4b131"
      },
      "outputs": [
        {
          "name": "stdout",
          "output_type": "stream",
          "text": [
            "Minimum Cost: 80\n",
            "Minimum Path: [0, 1, 3, 2, 0]\n"
          ]
        }
      ],
      "source": [
        "n = 4  # number of cities\n",
        "min_cost = float('inf')   # To store minimum cost. it starts off as the largest number possible\n",
        "min_path = []      # To store patrh with mminimum cost\n",
        "\n",
        "def tsp(graph, visited, currPos, count, cost, path):\n",
        "  global min_cost, min_path\n",
        "\n",
        "  if count == n and graph[currPos][0]:\n",
        "    total_cost = cost + graph[currPos][0]\n",
        "    if total_cost < min_cost:\n",
        "      min_cost = total_cost\n",
        "      min_path = path + [0]   # Add start city to complete the cycle\n",
        "    return\n",
        "\n",
        "  # Try next cities\n",
        "  for i in range(n):\n",
        "    if not visited[i] and graph[currPos][i] != 0 :\n",
        "      visited[i] = True\n",
        "      tsp(graph, visited, i, count + 1, cost + graph[currPos][i], path + [i])   # Recusive Mth\n",
        "      visited[i] = False  # BackTracking\n",
        "\n",
        "graph = [\n",
        "    [0, 10, 15, 20],\n",
        "    [10, 0, 35, 25],\n",
        "    [15, 35, 0, 30],\n",
        "    [20, 25, 30, 0]\n",
        "]\n",
        "\n",
        "# Visited Node\n",
        "visited = [False] * n\n",
        "visited[0] = True   # Node 0\n",
        "\n",
        "# Started TSP with starting path [0]\n",
        "tsp(graph, visited, 0, 1, 0, [0])\n",
        "\n",
        "print(\"Minimum Cost:\", min_cost)\n",
        "print(\"Minimum Path:\", min_path)"
      ]
    }
  ],
  "metadata": {
    "colab": {
      "authorship_tag": "ABX9TyOYgr8ZKs729UvSvS0ycjmK",
      "include_colab_link": true,
      "provenance": []
    },
    "kernelspec": {
      "display_name": "Python 3",
      "name": "python3"
    },
    "language_info": {
      "name": "python"
    }
  },
  "nbformat": 4,
  "nbformat_minor": 0
}
