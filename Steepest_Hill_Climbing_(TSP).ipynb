{
  "nbformat": 4,
  "nbformat_minor": 0,
  "metadata": {
    "colab": {
      "provenance": [],
      "gpuType": "T4",
      "authorship_tag": "ABX9TyOa9LJzay+mNJTcPjJ+b18o",
      "include_colab_link": true
    },
    "kernelspec": {
      "name": "python3",
      "display_name": "Python 3"
    },
    "language_info": {
      "name": "python"
    },
    "accelerator": "GPU"
  },
  "cells": [
    {
      "cell_type": "markdown",
      "metadata": {
        "id": "view-in-github",
        "colab_type": "text"
      },
      "source": [
        "<a href=\"https://colab.research.google.com/github/navalepratham18/BTech-Artifical-Intelligence-Practicals/blob/main/Steepest_Hill_Climbing_(TSP).ipynb\" target=\"_parent\"><img src=\"https://colab.research.google.com/assets/colab-badge.svg\" alt=\"Open In Colab\"/></a>"
      ]
    },
    {
      "cell_type": "markdown",
      "source": [
        "## Name : Navale Prathamesh Rajendra\n",
        "## Year & Div : TY-AI&ML-B\n",
        "## Roll No. : 30"
      ],
      "metadata": {
        "id": "smOLmyAEz11Q"
      }
    },
    {
      "cell_type": "markdown",
      "source": [
        "## Steepest Hill Climbing using TSP"
      ],
      "metadata": {
        "id": "N0tA27GG22co"
      }
    },
    {
      "cell_type": "markdown",
      "source": [
        "### # Importing Necessary Libraries"
      ],
      "metadata": {
        "id": "KRdSorDX2_MH"
      }
    },
    {
      "cell_type": "code",
      "execution_count": 78,
      "metadata": {
        "id": "Jh7D68MLxpya"
      },
      "outputs": [],
      "source": [
        "import random"
      ]
    },
    {
      "cell_type": "markdown",
      "source": [
        "### # Creating path_cost() that calculate the total cost of path"
      ],
      "metadata": {
        "id": "hZF2xcaL3KY3"
      }
    },
    {
      "cell_type": "code",
      "source": [
        "# Function to calculate total cost of a path\n",
        "def path_cost(graph, path):\n",
        "  cost = 0\n",
        "  n = len(path)\n",
        "  for i in range(n-1):\n",
        "    cost += graph[path[i]][path[i+1]]\n",
        "  cost += graph[path[-1]][path[0]]  # return to start\n",
        "  return cost"
      ],
      "metadata": {
        "id": "kTcL9Toy3S_g"
      },
      "execution_count": 79,
      "outputs": []
    },
    {
      "cell_type": "markdown",
      "source": [
        "### # Creating get_neighbors() to calculate all possible neighbors(by swapping 2 Cities)"
      ],
      "metadata": {
        "id": "MGdXzxE-3-e_"
      }
    },
    {
      "cell_type": "code",
      "source": [
        "#Generate all possible neighbors(by swapping 2 Cities)\n",
        "def get_neighbors(path):\n",
        "  neighbors = []\n",
        "  n = len(path)\n",
        "  for i in range(1, n):       # avoid swapping the start city\n",
        "    for j in range(i + 1, n):\n",
        "      new_path = path[:]\n",
        "      new_path[i], new_path[j] = new_path[j], new_path[i]\n",
        "      neighbors.append(new_path)\n",
        "  return neighbors"
      ],
      "metadata": {
        "id": "r25mfXe44Cjw"
      },
      "execution_count": 80,
      "outputs": []
    },
    {
      "cell_type": "markdown",
      "source": [
        "### # Steepest Hill Climb Function"
      ],
      "metadata": {
        "id": "G9n-H06J6y1u"
      }
    },
    {
      "cell_type": "code",
      "source": [
        "def steepest_hill_climb(graph):\n",
        "  #start with a random path\n",
        "  n = len(graph)\n",
        "  current_path = list(range(n))\n",
        "  random.shuffle(current_path)\n",
        "  current_cost = path_cost(graph, current_path)\n",
        "\n",
        "  print(\"Inital path : \", current_path, \"Cost : \", current_cost)\n",
        "\n",
        "  while True:\n",
        "    neighbors = get_neighbors(current_path)\n",
        "\n",
        "    #Evaluate all neighbors and pick the best\n",
        "    best_neighbor = min(neighbors, key=lambda x: path_cost(graph, x))\n",
        "    best_cost = path_cost(graph, best_neighbor)\n",
        "\n",
        "    if best_cost < current_cost:    # Move to better neighbor\n",
        "      current_path, current_cost = best_neighbor, best_cost\n",
        "      print(\"Moving to : \", current_path, \"Cost : \", current_cost)\n",
        "\n",
        "    else:\n",
        "      # No better neighbor found -> Local optimum reached\n",
        "      break\n",
        "\n",
        "  return current_path, current_cost\n",
        "\n",
        "\n",
        "# Example TSP Graph (distance matrix)\n",
        "\n",
        "graph = [\n",
        "    [0, 10, 15, 20],\n",
        "    [10, 0, 35, 25],\n",
        "    [15, 35, 0, 30],\n",
        "    [20, 25, 30, 0]\n",
        "]\n",
        "\n",
        "# run algorithm\n",
        "best_path, best_cost = steepest_hill_climb(graph)\n",
        "print(\"\\nFinal Best path : \", best_path, \"Cost : \", best_cost)\n"
      ],
      "metadata": {
        "colab": {
          "base_uri": "https://localhost:8080/"
        },
        "id": "_CpDq93_67PO",
        "outputId": "5bd65dd2-494b-4ca2-877a-f8252a9c3ee9"
      },
      "execution_count": 81,
      "outputs": [
        {
          "output_type": "stream",
          "name": "stdout",
          "text": [
            "Inital path :  [0, 3, 1, 2] Cost :  95\n",
            "Moving to :  [0, 1, 3, 2] Cost :  80\n",
            "\n",
            "Final Best path :  [0, 1, 3, 2] Cost :  80\n"
          ]
        }
      ]
    }
  ]
}