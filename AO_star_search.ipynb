{
  "cells": [
    {
      "cell_type": "markdown",
      "id": "1a7811ba",
      "metadata": {},
      "source": [
        "# Name : Navale Prathamesh Rajendra\n",
        "# Year & Div : TY-ML-B\n",
        "# Roll No: 30"
      ]
    },
    {
      "cell_type": "code",
      "execution_count": null,
      "id": "e157aeb4",
      "metadata": {
        "id": "e157aeb4",
        "outputId": "63424cbe-561d-4248-9ea9-b92cb0bcb9da"
      },
      "outputs": [
        {
          "name": "stdout",
          "output_type": "stream",
          "text": [
            "Processing node: A\n",
            "Processing node: D\n",
            "Processing node: A\n",
            "\n",
            "Optimal Solution Graph:\n",
            "A -> ['D']\n",
            "D -> ['H']\n"
          ]
        }
      ],
      "source": [
        "# AO* Algorithm\n",
        "\n",
        "def get_neighbors(graph, node):\n",
        "    return graph.get(node, [])\n",
        "\n",
        "def compute_min_cost_child_nodes(graph, heuristic, node):\n",
        "    neighbors = get_neighbors(graph, node)\n",
        "    if not neighbors:  # Goal node\n",
        "        return heuristic[node], []\n",
        "\n",
        "    min_cost = float('inf')\n",
        "    best_child_group = None\n",
        "\n",
        "    for child_group in neighbors:   # Each group = [(child, cost), ...]\n",
        "        cost = 0\n",
        "        for child, edge_cost in child_group:\n",
        "            cost += edge_cost + heuristic[child]   # f = g + h\n",
        "        if cost < min_cost:\n",
        "            min_cost = cost\n",
        "            best_child_group = child_group\n",
        "\n",
        "    return min_cost, best_child_group\n",
        "\n",
        "def ao_star(graph, heuristic, start, goals):\n",
        "    status = {}                                  #Tracks whether a node is solved (\"Solved\") or not yet.\n",
        "    solution = {}                                #For each node, stores the chosen best child-group (list of children) giving the currently best solution.\n",
        "    parent = {}                                  #can backtrack and update parents when a child’s cost changes / becomes solved.\n",
        "\n",
        "    def recursive_ao(node, backtracking=False):\n",
        "        print(f\"Processing node: {node}\")\n",
        "\n",
        "        if node in goals:  # Goal node\n",
        "            status[node] = \"Solved\"\n",
        "            return\n",
        "\n",
        "        cost, child_group = compute_min_cost_child_nodes(graph, heuristic, node)\n",
        "        heuristic[node] = cost\n",
        "        solution[node] = [child for child, _ in child_group]\n",
        "\n",
        "        for child, _ in child_group:\n",
        "            parent[child] = node\n",
        "\n",
        "        solved = True\n",
        "        for child, _ in child_group:\n",
        "            if child not in status or status[child] != \"Solved\":\n",
        "                solved = False\n",
        "\n",
        "        if solved:\n",
        "            status[node] = \"Solved\"\n",
        "\n",
        "        if not backtracking:  # Expand children -forward move\n",
        "            for child, _ in child_group:\n",
        "                recursive_ao(child, backtracking=True)\n",
        "\n",
        "        if parent.get(node):  # Backtrack\n",
        "            recursive_ao(parent[node], backtracking=True)\n",
        "\n",
        "    recursive_ao(start)\n",
        "    return solution\n",
        "\n",
        "\n",
        "# ---------------- Example ----------------\n",
        "graph = {\n",
        "    'A': [[('B', 1), ('C', 1)], [('D', 1)]],   # A → (B,C) OR D\n",
        "    'B': [[('E', 1)], [('F', 1)]],             # B → E OR F\n",
        "    'C': [[('G', 1)]],                         # C → G\n",
        "    'D': [[('H', 1)]]                          # D → H\n",
        "}\n",
        "\n",
        "heuristic = {\n",
        "    'A': 10, 'B': 6, 'C': 4, 'D': 2,\n",
        "    'E': 0, 'F': 0, 'G': 0, 'H': 0   # Goal nodes\n",
        "}\n",
        "\n",
        "goals = {'E', 'F', 'G', 'H'}\n",
        "\n",
        "solution = ao_star(graph, heuristic, 'A', goals)\n",
        "\n",
        "print(\"\\nOptimal Solution Graph:\")\n",
        "for node in solution:\n",
        "    print(f\"{node} -> {solution[node]}\")\n"
      ]
    },
    {
      "cell_type": "code",
      "execution_count": null,
      "id": "a18d4f26",
      "metadata": {
        "id": "a18d4f26"
      },
      "outputs": [],
      "source": []
    }
  ],
  "metadata": {
    "colab": {
      "provenance": []
    },
    "kernelspec": {
      "display_name": "Python 3 (ipykernel)",
      "language": "python",
      "name": "python3"
    },
    "language_info": {
      "codemirror_mode": {
        "name": "ipython",
        "version": 3
      },
      "file_extension": ".py",
      "mimetype": "text/x-python",
      "name": "python",
      "nbconvert_exporter": "python",
      "pygments_lexer": "ipython3",
      "version": "3.9.13"
    }
  },
  "nbformat": 4,
  "nbformat_minor": 5
}
