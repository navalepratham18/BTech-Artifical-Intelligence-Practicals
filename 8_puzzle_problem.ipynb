{
  "nbformat": 4,
  "nbformat_minor": 0,
  "metadata": {
    "colab": {
      "provenance": [],
      "authorship_tag": "ABX9TyP/hZEWpIAuHmBFCEfQ3G17",
      "include_colab_link": true
    },
    "kernelspec": {
      "name": "python3",
      "display_name": "Python 3"
    },
    "language_info": {
      "name": "python"
    }
  },
  "cells": [
    {
      "cell_type": "markdown",
      "metadata": {
        "id": "view-in-github",
        "colab_type": "text"
      },
      "source": [
        "<a href=\"https://colab.research.google.com/github/navalepratham18/BTech-Practicals-Artifical-Intelligence/blob/main/8_puzzle_problem.ipynb\" target=\"_parent\"><img src=\"https://colab.research.google.com/assets/colab-badge.svg\" alt=\"Open In Colab\"/></a>"
      ]
    },
    {
      "cell_type": "code",
      "execution_count": null,
      "metadata": {
        "id": "KLIn2lxNQBJd"
      },
      "outputs": [],
      "source": [
        "def bfs(src, target):           # Define the Breadth-First Search function with source and target states\n",
        "  queue = []                    # Initialize an empty list to serve as the queue for BFS\n",
        "  queue.append(src)             # Add the source state to the queue\n",
        "\n",
        "  exp = []                      # Initialize an empty list to keep track of explored states\n",
        "\n",
        "  while len(queue) > 0:         # Loop as long as there are states in the queue\n",
        "    source = queue.pop(0)       # Get the first state from the queue\n",
        "    exp.append(source)          # Add the current state to the explored list\n",
        "\n",
        "    print(source)               # Print the current state (for visualization)\n",
        "\n",
        "    if source == target:        # Check if the current state is the target state\n",
        "      print(\"Success\")          # If it is, print \"Success\"\n",
        "      return                    # And exit the function\n",
        "\n",
        "    poss_moves_to_do = []                           # Initialize an empty list for possible next moves\n",
        "    poss_moves_to_do= possible_moves(source,exp)    # Get the possible moves from the current state, avoiding explored states\n",
        "\n",
        "    for move in poss_moves_to_do:                   # For each possible move\n",
        "      if move not in exp and move not in queue:     # If the resulting state has not been explored and is not already in the queue\n",
        "        queue.append(move)                          # Add the resulting state to the queue"
      ]
    },
    {
      "cell_type": "code",
      "source": [
        "def possible_moves(state, visited_states):          # Define the function to find possible moves from a given state\n",
        "  b = state.index(0)                                # Find the index (position) of the empty spot (0)\n",
        "\n",
        "  d = []                              # Initialize a list to store possible directions\n",
        "\n",
        "  if b not in [0,1,2]:                # Check if the empty spot is not in the top row\n",
        "    d.append('u')                     # If not, 'up' is a possible direction\n",
        "  if b not in [6,7,8]:                # Check if the empty spot is not in the bottom row\n",
        "    d.append('d')                     # If not, 'down' is a possible direction\n",
        "  if b not in [0,3,6]:                # Check if the empty spot is not in the left column\n",
        "    d.append('l')                     # If not, 'left' is a possible direction\n",
        "  if b not in [2,5,8]:                # Check if the empty spot is not in the right column\n",
        "    d.append('r')                     # If not, 'right' is a possible direction\n",
        "\n",
        "  possible_moves_it_can = []          # Initialize a list to store possible next states\n",
        "\n",
        "  for i in d:                         # For each possible direction\n",
        "    possible_moves_it_can.append(gen(state, i, b))        # Generate the new state by applying the move and add it to the list\n",
        "\n",
        "  return [move_it_can for move_it_can in possible_moves_it_can if move_it_can not in visited_states]   # Return the list of possible next states that have not been visited"
      ],
      "metadata": {
        "id": "EANvfULcWLWq"
      },
      "execution_count": null,
      "outputs": []
    },
    {
      "cell_type": "code",
      "source": [
        "def gen(state, m, b):                       # Define the function to generate a new state by moving the empty tile\n",
        "  temp = state.copy()                       # Create a copy of the current state to avoid modifying the original\n",
        "\n",
        "  if m == 'd':                              # If the move is 'down'\n",
        "    temp[b+3], temp[b] = temp[b], temp[b+3] # Swap the empty tile with the tile below it\n",
        "  if m == 'u':                              # If the move is 'up'\n",
        "    temp[b-3], temp[b] = temp[b], temp[b-3] # Swap the empty tile with the tile above it\n",
        "  if m == 'l':                              # If the move is 'left'\n",
        "    temp[b-1], temp[b] = temp[b], temp[b-1] # Swap the empty tile with the tile to its left\n",
        "  if m == 'r':                              # If the move is 'right'\n",
        "    temp[b+1], temp[b] = temp[b], temp[b+1] # Swap the empty tile with the tile to its right\n",
        "\n",
        "  return temp                               # Return the new state after the move"
      ],
      "metadata": {
        "id": "TrpqM6Y6Y-SU"
      },
      "execution_count": null,
      "outputs": []
    },
    {
      "cell_type": "code",
      "source": [
        "src = [1,2,3,4,5,6,0,7,8]         # Define the initial state of the puzzle as a list\n",
        "target = [1,2,3,4,5,6,7,8,0]      # Define the target state of the puzzle as a list\n",
        "bfs(src, target)                  # Call the bfs function to solve the puzzle from the source to the target state"
      ],
      "metadata": {
        "colab": {
          "base_uri": "https://localhost:8080/"
        },
        "id": "oExkW-ppaOed",
        "outputId": "f66a19e8-f0d2-446b-8604-004b5c48a48c"
      },
      "execution_count": null,
      "outputs": [
        {
          "output_type": "stream",
          "name": "stdout",
          "text": [
            "[1, 2, 3, 4, 5, 6, 0, 7, 8]\n",
            "[1, 2, 3, 0, 5, 6, 4, 7, 8]\n",
            "[1, 2, 3, 4, 5, 6, 7, 0, 8]\n",
            "[0, 2, 3, 1, 5, 6, 4, 7, 8]\n",
            "[1, 2, 3, 5, 0, 6, 4, 7, 8]\n",
            "[1, 2, 3, 4, 0, 6, 7, 5, 8]\n",
            "[1, 2, 3, 4, 5, 6, 7, 8, 0]\n",
            "Success\n"
          ]
        }
      ]
    },
    {
      "cell_type": "markdown",
      "source": [],
      "metadata": {
        "id": "jr6DgP93aOL0"
      }
    }
  ]
}